{
 "cells": [
  {
   "cell_type": "code",
   "execution_count": 1,
   "metadata": {},
   "outputs": [
    {
     "name": "stdout",
     "output_type": "stream",
     "text": [
      "287.9118197244836\n"
     ]
    }
   ],
   "source": [
    "import numpy as np\n",
    "\n",
    "a = 0   \n",
    "b = 4     \n",
    "N = 100  \n",
    "\n",
    "x = np.linspace(a, b, N)\n",
    "ans = 0\n",
    "for i in x:\n",
    "    ans += i*(i**3 - 1)\n",
    "print(ans/N)"
   ]
  },
  {
   "cell_type": "code",
   "execution_count": null,
   "metadata": {},
   "outputs": [],
   "source": [
    "import numpy as np\n",
    "import matplotlib.pyplot as plt\n",
    "\n",
    "a = -1  \n",
    "b = 1      \n",
    "N = 10   \n",
    "\n",
    "x = np.linspace(a, b, N)\n",
    "y = np.linspace(a, b, N)\n",
    "d = dict(zip(x, y))\n",
    "plt.subplot(x,y)"
   ]
  },
  {
   "cell_type": "code",
   "execution_count": null,
   "metadata": {},
   "outputs": [],
   "source": [
    "'''\n",
    "Метод бисекции: объяснение алгоритма\n",
    "Метод бисекции (или метод половинного деления) - это численный метод нахождения корней уравнения на заданном интервале.\n",
    "Алгоритм\n",
    "\n",
    "Выбор начального интервала:\n",
    "Начинаем с интервала [a, b], где f(a) и f(b) имеют разные знаки.\n",
    "Проверка условия:\n",
    "Если f(a) * f(b) >= 0, метод не может гарантировать нахождение корня.\n",
    "Итеративный процесс:\n",
    "\n",
    "Находим середину интервала: c = (a + b) / 2\n",
    "Вычисляем f(c)\n",
    "Если f(c) = 0, найден точный корень\n",
    "Если f(a) * f(c) < 0, корень в [a, c]\n",
    "Иначе, корень в [c, b]\n",
    "Обновляем соответствующую границу\n",
    "Повторяем, пока |b - a| > epsilon\n",
    "\n",
    "\n",
    "\n",
    "Математический пример\n",
    "Функция: f(x) = x³ + x - 1\n",
    "Начальный интервал: [0, 1]\n",
    "\n",
    "f(0) = -1\n",
    "f(1) = 1\n",
    "\n",
    "Итерация 1:\n",
    "c = (0 + 1) / 2 = 0.5\n",
    "f(0.5) = 0.5³ + 0.5 - 1 = -0.375\n",
    "f(0) * f(0.5) > 0, обновляем: a = 0.5\n",
    "Новый интервал: [0.5, 1]\n",
    "Итерация 2:\n",
    "c = (0.5 + 1) / 2 = 0.75\n",
    "f(0.75) ≈ 0.2969\n",
    "f(0.5) * f(0.75) < 0, обновляем: b = 0.75\n",
    "Новый интервал: [0.5, 0.75]\n",
    "Процесс продолжается до достижения заданной точности.\n",
    "'''"
   ]
  },
  {
   "cell_type": "code",
   "execution_count": 11,
   "metadata": {},
   "outputs": [
    {
     "name": "stdout",
     "output_type": "stream",
     "text": [
      "0.68212890625\n"
     ]
    },
    {
     "data": {
      "image/png": "[encoded data removed]",
      "text/plain": [
       "<Figure size 1000x500 with 1 Axes>"
      ]
     },
     "metadata": {},
     "output_type": "display_data"
    }
   ],
   "source": [
    "import numpy as np\n",
    "import matplotlib.pyplot as plt\n",
    "\n",
    "def f(x):\n",
    "    return x**3 + x - 1\n",
    "\n",
    "def bisection_method(f, a, b, epsilon):\n",
    "    if f(a) * f(b) >= 0:\n",
    "        return None\n",
    "    iters = []\n",
    "    while abs(b - a) > epsilon:\n",
    "        c = (a + b) / 2\n",
    "        iters.append((c, f(c)))\n",
    "        if f(c) == 0:\n",
    "            return c, iters\n",
    "        elif f(a) * f(c) < 0:\n",
    "            b = c\n",
    "        else:\n",
    "            a = c\n",
    "    \n",
    "    return (a + b) / 2, iters\n",
    "\n",
    "a, b = 0, 1\n",
    "epsilon = 1e-3\n",
    "\n",
    "ans, iters = bisection_method(f, a, b, epsilon)\n",
    "\n",
    "print(ans)\n",
    "\n",
    "x = np.linspace(-1.5, 1.5, 100)\n",
    "y = f(x)\n",
    "\n",
    "plt.figure(figsize=(10, 5))\n",
    "plt.plot(x, y)\n",
    "plt.xlabel('x')\n",
    "plt.ylabel('y')\n",
    "plt.plot(ans, f(ans), 'ro', label='Точка')\n",
    "plt.title('Метод бисекции')\n",
    "plt.legend()\n",
    "plt.grid(True)\n",
    "plt.show()"
   ]
  },
  {
   "cell_type": "code",
   "execution_count": 22,
   "metadata": {},
   "outputs": [
    {
     "name": "stdout",
     "output_type": "stream",
     "text": [
      "0\n"
     ]
    }
   ],
   "source": [
    "print(3 * 0)"
   ]
  },
  {
   "cell_type": "code",
   "execution_count": 26,
   "metadata": {},
   "outputs": [
    {
     "name": "stdout",
     "output_type": "stream",
     "text": [
      "0.5000000000000007\n"
     ]
    }
   ],
   "source": [
    "\n",
    "print(8.9 % 1.2)"
   ]
  },
  {
   "cell_type": "code",
   "execution_count": 25,
   "metadata": {},
   "outputs": [
    {
     "name": "stdout",
     "output_type": "stream",
     "text": [
      "549.407481691686\n"
     ]
    }
   ],
   "source": [
    "p = 2.1\n",
    "r = 4\n",
    "t = 2.3\n",
    "y = 2.6\n",
    "\n",
    "am = p * pow (1 + r / y, y * t)\n",
    "print(am - p)"
   ]
  },
  {
   "cell_type": "code",
   "execution_count": 13,
   "metadata": {},
   "outputs": [
    {
     "name": "stdout",
     "output_type": "stream",
     "text": [
      "21\n"
     ]
    }
   ],
   "source": [
    "# Sum numbers from 1 to a (inclusive)\n",
    "a = 6.9\n",
    "result = 0\n",
    "for i in range(1, int(a) + 1):\n",
    "    result += i\n",
    "print(result)\n"
   ]
  },
  {
   "cell_type": "code",
   "execution_count": 15,
   "metadata": {},
   "outputs": [
    {
     "data": {
      "text/plain": [
       "248.84555409084754"
      ]
     },
     "execution_count": 15,
     "metadata": {},
     "output_type": "execute_result"
    }
   ],
   "source": [
    "# Calculate the area of a circle with radius r.\n",
    "import math\n",
    "r = 8.9\n",
    "result = math.pi * (r ** 2)\n",
    "result"
   ]
  },
  {
   "cell_type": "code",
   "execution_count": 16,
   "metadata": {},
   "outputs": [
    {
     "name": "stdout",
     "output_type": "stream",
     "text": [
      "The distance between the points (1.4, 1, 3.1) and (4.2, 1.6, 4.4) is: 3.144837038703278\n"
     ]
    }
   ],
   "source": [
    "import math\n",
    "x1, y1, z1 = 1.4, 1, 3.1\n",
    "x2, y2, z2 = 4.2, 1.6, 4.4\n",
    "distance = math.sqrt(pow(x2 - x1, 2) + pow(y2 - y1, 2) + pow(z2 - z1, 2))\n",
    "print(f\"The distance between the points (1.4, 1, 3.1) and (4.2, 1.6, 4.4) is: {distance}\")\n"
   ]
  },
  {
   "cell_type": "code",
   "execution_count": 17,
   "metadata": {},
   "outputs": [
    {
     "name": "stdout",
     "output_type": "stream",
     "text": [
      "1.2649277688603533\n"
     ]
    }
   ],
   "source": [
    "a = 1.6\n",
    "epsilon = 0.0001\n",
    "guess = a / 2\n",
    "while abs(guess**2 - a) > epsilon:\n",
    "    guess = (guess + a / guess) / 2\n",
    "result = guess\n",
    "print(result)\n"
   ]
  },
  {
   "cell_type": "code",
   "execution_count": 18,
   "metadata": {},
   "outputs": [
    {
     "name": "stdout",
     "output_type": "stream",
     "text": [
      "1.2649277688603533\n"
     ]
    }
   ],
   "source": [
    "a = 1.6\n",
    "epsilon = 0.0001\n",
    "guess = a / 2\n",
    "while abs(guess**2 - a) > epsilon:\n",
    "    guess = (guess + a / guess) / 2\n",
    "result = guess\n",
    "print(result)\n"
   ]
  },
  {
   "cell_type": "code",
   "execution_count": 19,
   "metadata": {},
   "outputs": [
    {
     "name": "stdout",
     "output_type": "stream",
     "text": [
      "The compound interest after 5.4 years is: 3610.921027379773\n"
     ]
    }
   ],
   "source": [
    "# Calculate compound interest\n",
    "principal = 5\n",
    "rate = 1.3\n",
    "time = 5.4\n",
    "comp_per_year = 9.6\n",
    "amount = principal * pow(1 + rate / comp_per_year, comp_per_year * time)\n",
    "print(f\"The compound interest after {time} years is: {amount - principal}\")\n"
   ]
  },
  {
   "cell_type": "code",
   "execution_count": null,
   "metadata": {},
   "outputs": [],
   "source": []
  },
  {
   "cell_type": "code",
   "execution_count": null,
   "metadata": {},
   "outputs": [],
   "source": []
  },
  {
   "cell_type": "code",
   "execution_count": null,
   "metadata": {},
   "outputs": [],
   "source": []
  },
  {
   "cell_type": "code",
   "execution_count": null,
   "metadata": {},
   "outputs": [],
   "source": []
  },
  {
   "cell_type": "code",
   "execution_count": null,
   "metadata": {},
   "outputs": [],
   "source": []
  },
  {
   "cell_type": "code",
   "execution_count": null,
   "metadata": {},
   "outputs": [],
   "source": []
  },
  {
   "cell_type": "code",
   "execution_count": null,
   "metadata": {},
   "outputs": [],
   "source": []
  },
  {
   "cell_type": "code",
   "execution_count": null,
   "metadata": {},
   "outputs": [],
   "source": []
  },
  {
   "cell_type": "code",
   "execution_count": 8,
   "metadata": {},
   "outputs": [
    {
     "name": "stdout",
     "output_type": "stream",
     "text": [
      "0.6823395825973142\n",
      "2.823062168566537e-05\n"
     ]
    },
    {
     "data": {
      "image/png": "[encoded data removed]",
      "text/plain": [
       "<Figure size 1000x600 with 1 Axes>"
      ]
     },
     "metadata": {},
     "output_type": "display_data"
    }
   ],
   "source": [
    "import numpy as np\n",
    "import matplotlib.pyplot as plt\n",
    "\n",
    "def f(x):\n",
    "    return x**3 + x - 1\n",
    "\n",
    "def df(x):\n",
    "    return 3*x**2 + 1\n",
    "\n",
    "def newton_method(f, df, x0, zero=1e-3, iter=100):\n",
    "    x = x0\n",
    "    for _ in range(iter):\n",
    "        fx = f(x)\n",
    "        if abs(fx) < zero:\n",
    "            return x\n",
    "        x = x - fx / df(x)\n",
    "    return x\n",
    "\n",
    "root = newton_method(f, df, 0)\n",
    "print(root)\n",
    "print(f(root))\n",
    "\n",
    "x = np.linspace(-2, 2, 1000)\n",
    "y = f(x)\n",
    "\n",
    "plt.figure(figsize=(10, 6))\n",
    "plt.plot(x, y, label='y = x^3 + x - 1')\n",
    "plt.axhline(y=0, color='r', linestyle='--', label='y = 0')\n",
    "plt.plot(root, f(root), 'ro', label='Корень')\n",
    "plt.xlabel('x')\n",
    "plt.ylabel('y')\n",
    "plt.title('График функции y = x^3 + x - 1')\n",
    "plt.legend()\n",
    "plt.grid(True)\n",
    "plt.show()"
   ]
  },
  {
   "cell_type": "code",
   "execution_count": null,
   "metadata": {},
   "outputs": [],
   "source": [
    "t = int(input())\n",
    "for _ in t:\n",
    "    x, y = int()"
   ]
  }
 ],
 "metadata": {
  "kernelspec": {
   "display_name": "venv",
   "language": "python",
   "name": "python3"
  },
  "language_info": {
   "codemirror_mode": {
    "name": "ipython",
    "version": 3
   },
   "file_extension": ".py",
   "mimetype": "text/x-python",
   "name": "python",
   "nbconvert_exporter": "python",
   "pygments_lexer": "ipython3",
   "version": "3.12.4"
  }
 },
 "nbformat": 4,
 "nbformat_minor": 2
}
